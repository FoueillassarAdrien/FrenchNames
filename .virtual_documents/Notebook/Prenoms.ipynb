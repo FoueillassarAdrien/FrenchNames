import folium as fm
import pandas as pd
import numpy as np
import matplotlib.pyplot as plt
import scipy.signal as sp
import seaborn as sb
import math
import seaborn as sns

# src = '/home/dataplus/Projets/Prenoms/data'
src = 'D:\\CozyDrive\\CampusNum\\Python\\02_Prenoms\\Data'

birth = pd.read_csv(src + '\\nat2020.csv', sep=';')
birth['sexe'] = birth['sexe'].astype(int)
name = pd.read_csv(src + '/Prenoms.csv', encoding="ISO-8859-1", sep=';')


name.rename(columns={'01_prenom':'prenom','02_genre':'genre','03_langage':'lang','04_fréquence':'freq'}, inplace=True)
birth.columns = ['sex', 'prenom', 'year', 'nb']
birth.replace({'sex':{1:'h', 2:'f'}}, inplace=True)


name[(name['lang']=='french')&(name['genre']=='m,f')]


birth.head()


nbBirth = birth[['year', 'nb']].groupby('year').sum().drop(index='XXXX')
nbBirthH = birth[birth['sex']=='h'][['year', 'nb']].groupby('year').sum().drop(index='XXXX')
nbBirthF = birth[birth['sex']=='f'][['year', 'nb']].groupby('year').sum().drop(index='XXXX')


nbBirth.head()


plt.figure(figsize=(22, 8))

plt.plot(nbBirth, label='Total')
plt.plot(nbBirthH, label='Homme')
plt.plot(nbBirthF, label='Femme')

plt.title('Nombre de naissances depuis 1950')
plt.xlabel('Année')
plt.ylabel('Nb')
xticks = plt.gca().get_xticks()
plt.gca().set_xticks(xticks[::2])
plt.xticks(rotation=80)
plt.legend()
plt.grid()


proportion = birth.drop(columns='prenom').groupby(['sex', 'year']).sum().reset_index().pivot(index='year', columns='sex', values='nb').apply(lambda x: x / x.sum() * 100, axis=1).drop(index='XXXX')
proportion.head()


plt.figure(figsize=(22, 8))

plt.bar(proportion.index, proportion.f, label='Femme')
plt.bar(proportion.index, proportion.h, bottom=proportion.f, label='Homme')

plt.title('Repartition H/F depuis 1950')
plt.xlabel('Année')
plt.ylabel('Proportion (%)')
xticks = plt.gca().get_xticks()
plt.gca().set_xticks(xticks[::2])
plt.xticks(rotation=80)
plt.legend()
plt.grid(axis='y')


evolM = birth[birth['prenom']=='MARIE'].drop(columns='prenom').groupby(['sex', 'year']).sum().reset_index().pivot(index='year', columns='sex', values='nb').drop(index='XXXX')
evolMp = pd.DataFrame()
evolMp['f'] = evolM['f'] / nbBirth['nb'] * 100
evolMp['h'] = evolM['h'] / nbBirth['nb'] * 100


plt.figure(figsize=(22, 8))

plt.bar(evolMp.index, evolMp.f, label='Femme')
plt.bar(evolMp.index, evolMp.h, bottom=evolMp.f, label='Homme')
# evolMp.plot.bar()

plt.title('Evolution du prenom Marie depuis 1950')
plt.xlabel('Année')
plt.ylabel('Prénom Marie (%)')
xticks = plt.gca().get_xticks()
plt.gca().set_xticks(xticks[::2])
plt.xticks(rotation=80)
plt.legend(loc='right')
plt.grid(axis='y')


diversite = birth.groupby(['year'])['prenom'].count().drop(index='XXXX')
diverH = birth[birth['sex']=='h'].groupby(['year'])['prenom'].count().drop(index='XXXX')
diverF = birth[birth['sex']=='f'].groupby(['year'])['prenom'].count().drop(index='XXXX')
diver2017 = birth[birth['year']=='2017']['prenom'].count()
diver1950 = birth[birth['year']=='1900']['prenom'].count()
x = diver2017 / diver1950


plt.figure(figsize=(22, 8))

plt.plot(diversite, label='Mix')
plt.plot(diverH, label='Homme')
plt.plot(diverF, label='Femme')
plt.axvline(117, ymin=0, ymax=.92, c='black')
plt.axhline(diver2017, xmin=0, xmax=.93, c='black')
plt.annotate('   13 571 prénoms\n    donné en 2017\n({0}x plus qu\'en 1950)'.format(round(x, 1)), xy=(117,diver2017), xytext=(104,10000))

plt.title('Diversité des prénoms depuis 1900')
plt.xlabel('Année')
plt.ylabel('Nb prénoms')
xticks = plt.gca().get_xticks()
plt.gca().set_xticks(xticks[::2])
plt.xticks(rotation=80)
plt.legend()
plt.grid()


birth[(birth['prenom']=='MARIE')&(birth['year']=='1900')]['nb'].sum() / birth[birth['year']=='1900']['nb'].sum() * 100


diversite.idxmax()


evolMComp = birth[(birth['prenom'].fillna('None').str.contains('MARIE')) & (birth['prenom'] != 'MARIE')].drop(columns='prenom').groupby(['year', 'sex']).sum().unstack('sex').drop(index='XXXX')
evolMComp.head()


plt.figure(figsize=(22, 8))

plt.bar(evolM.index, evolM.sum(axis=1).values / nbBirth['nb'] * 100, label='Marie')
plt.bar(evolMComp.index, evolMComp.sum(axis=1).values / nbBirth['nb'] * 100, bottom=evolM.sum(axis=1).values / nbBirth['nb'] * 100, label='Composé')

plt.title('Evolution du prenom composé avec Marie depuis 1900')
plt.xlabel('Année')
plt.ylabel('Pourcentage (%)')
xticks = plt.gca().get_xticks()
plt.gca().set_xticks(xticks[::2])
plt.xticks(rotation=80)
plt.legend()
plt.grid(axis='y')


evolPR = birth[birth['prenom'] == '_PRENOMS_RARES'].drop(columns='prenom').groupby(['year', 'sex']).sum().unstack('sex').droplevel(0, axis=1)

PR2015 = birth[birth['year'] == '2015'].groupby('prenom').sum().sort_values('nb', ascending=False).head(20).rename(index={'_PRENOMS_RARES':'RARE'})


fig, ax = plt.subplots(1, 2, figsize=(22, 8))
pal = plt.get_cmap('Set3')

ax[0].stackplot(evolPR.index, evolPR.T / nbBirth['nb'] * 100, labels=['Homme', 'Femme'])
ax[1].bar(PR2015.index, PR2015['nb'], color=pal.colors)

ax[0].grid()
ax[0].legend()
ax[0].set_title('Evolution de la part des prénoms rare depuis 1900')
ax[0].set_xlabel('Années')
ax[0].set_ylabel('Pourcentage (%)')
xticks = ax[0].get_xticks()
ax[0].set_xticks(xticks[::5])
lst = plt.setp(ax[0].get_xticklabels(), rotation=80)

ax[1].grid()
ax[1].set_title('Quantité de prénoms rare en 2015')
ax[1].set_xlabel('Années')
ax[1].set_ylabel('Nb naissances')
lst = plt.setp(ax[1].get_xticklabels(), rotation=80)


birth.sort_values(['year', 'nb'], ascending=False).groupby('year').head(10)





topMixed = birth.sort_values(['year', 'nb'], ascending=False).groupby('year').head(10).groupby('year').sum().drop(index='XXXX') / nbBirth * 100
topM = birth[birth['sex'] == 'h'].sort_values(['year', 'nb'], ascending=False).groupby('year').head(10).groupby('year').sum().drop(index='XXXX') / nbBirth * 100
topF = birth[birth['sex'] == 'f'].sort_values(['year', 'nb'], ascending=False).groupby('year').head(10).groupby('year').sum().drop(index='XXXX') / nbBirth * 100


plt.figure(figsize=(22, 8))

plt.plot(topMixed, label='Mix')
plt.plot(topM, label='Homme')
plt.plot(topF, label='Femme')

plt.title('Evolution des 10 prénoms les plus donnés depuis 1900')
plt.xlabel('Année')
plt.ylabel('Pourcentage (%)')
xticks = plt.gca().get_xticks()
plt.gca().set_xticks(xticks[::2])
plt.xticks(rotation=80)
plt.legend()
plt.grid()


top10m = birth[birth['sex']=='h'].drop(columns=['sex', 'prenom']).sort_values(['year', 'nb'], ascending=False).groupby('year').head(10)
top10m['rank'] = [i for i in range(1, 11)] * 122
top10m = top10m.pivot(index='rank', columns='year').drop(columns=('nb', 'XXXX')).T.droplevel(0).div(nbBirth['nb'], axis=0) * 100


top10m.head()


plt.figure(figsize=(22, 8))

pal = plt.get_cmap('Set3')
plt.stackplot(top10m.index, top10m.T, labels=top10m.columns, colors=pal.colors)

plt.title('Part des 10 prénoms masculins les plus donnés depuis 1900')
plt.xlabel('Année')
plt.ylabel('Pourcentage (%)')
xticks = plt.gca().get_xticks()
plt.gca().set_xticks(xticks[::2])
plt.xticks(rotation=80)
plt.legend()
plt.grid(axis='y')


top10f = birth[birth['sex']=='f'].drop(columns=['sex', 'prenom']).sort_values(['year', 'nb'], ascending=False).groupby('year').head(10)
top10f['rank'] = [i for i in range(1, 11)] * 122
top10f = top10f.pivot(index='rank', columns='year').drop(columns=('nb', 'XXXX')).T.droplevel(0).div(nbBirth['nb'], axis=0) * 100


plt.figure(figsize=(22, 8))

pal = plt.get_cmap('Set3')
plt.stackplot(top10f.index, top10f.T, labels=top10f.columns, colors=pal.colors)

plt.title('Part des 10 prénoms féminins les plus donnés depuis 1900')
plt.xlabel('Année')
plt.ylabel('Pourcentage (%)')
xticks = plt.gca().get_xticks()
plt.gca().set_xticks(xticks[::2])
plt.xticks(rotation=80)
plt.legend()
plt.grid(axis='y')


data = birth[birth['sex']=='h'].drop(columns='sex')
data = data[data['prenom']!='_PRENOMS_RARES']
data = data[data['year']!='XXXX']
data = data.pivot(index='prenom', columns='year', values='nb').dropna()
data = data.apply(lambda x: x / nbBirth['nb'], axis=1)
data = data.apply(lambda x: x / x.max(), axis=1)
data.head()


plt.figure(figsize=(18, 10))

for p in data.index:
    d = data.loc[p, :]
    plt.plot(d.index, d.values, lw=.8, alpha=.2, color='orange') 


sp.stat.norm.fit()
sp.signal.correlate(


corr = pd.DataFrame(columns=data.index, index=data.index)

for p1 in data.index:
    for p2 in data.index:
        x = data.loc[p1, :].values
        y = data.loc[p2, :].values
        corr.loc[p1, p2] = max(sp.correlate(x, y))
corr = corr.astype('float')
corr = corr.apply(lambda x: (x - x.mean()) / (x.max() - x.mean()))


corr


fig, ax = plt.subplots(figsize=(10, 10))
im = ax.imshow(corr)


pUnique = data['prenom'].unique()[::250]
x = data[data['prenom']=='PAUL']['nb'].values
y = data[data['prenom']=='ANTOINE']['nb'].values


max(sp.correlate(x, y))


evolM = birth[birth['prenom']=='ANTOINE'].drop(columns='prenom').groupby(['sex', 'year']).sum().reset_index().pivot(index='year', columns='sex', values='nb').drop(index='XXXX')
evolMp = pd.DataFrame()
#evolMp['f'] = evolM['f'] / nbBirth['nb'] * 100
evolMp['h'] = evolM['h'] / nbBirth['nb'] * 100





plt.figure(figsize=(22, 8))

plt.bar(evolMp.index, evolMp.h, label='Marie')

plt.title('Evolution du prenom composé avec Marie depuis 1900')
plt.xlabel('Année')
plt.ylabel('Pourcentage (%)')
plt.xticks(rotation=80)
plt.legend()
plt.grid()


birth.drop(columns='sexe').groupby(['preusuel', 'annais']).sum().sort_values('nombre', ascending=False).head(20)


birth[birth['preusuel']=='_PRENOMS_RARES']






